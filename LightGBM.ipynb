{
  "nbformat": 4,
  "nbformat_minor": 0,
  "metadata": {
    "colab": {
      "provenance": [],
      "authorship_tag": "ABX9TyM5x7JuJ4tL+N/WC91w5Who",
      "include_colab_link": true
    },
    "kernelspec": {
      "name": "python3",
      "display_name": "Python 3"
    },
    "language_info": {
      "name": "python"
    }
  },
  "cells": [
    {
      "cell_type": "markdown",
      "metadata": {
        "id": "view-in-github",
        "colab_type": "text"
      },
      "source": [
        "<a href=\"https://colab.research.google.com/github/Swarnlataaa/Tensorflow_lib/blob/main/LightGBM.ipynb\" target=\"_parent\"><img src=\"https://colab.research.google.com/assets/colab-badge.svg\" alt=\"Open In Colab\"/></a>"
      ]
    },
    {
      "cell_type": "code",
      "execution_count": null,
      "metadata": {
        "id": "VH0wCokpL6Ee"
      },
      "outputs": [],
      "source": [
        "!pip install lightgbm\n",
        "import numpy as np\n",
        "import pandas as pd\n",
        "import lightgbm as lgb\n",
        "from sklearn.datasets import load_boston\n",
        "from sklearn.model_selection import train_test_split\n",
        "from sklearn.metrics import mean_squared_error\n"
      ]
    },
    {
      "cell_type": "code",
      "source": [
        "data = load_boston()\n",
        "X = pd.DataFrame(data.data, columns=data.feature_names)\n",
        "y = pd.Series(data.target, name='MEDV')\n",
        "\n",
        "# Display the first few rows of the dataset\n",
        "X.head()\n"
      ],
      "metadata": {
        "id": "D-Ok9--DMH_D"
      },
      "execution_count": null,
      "outputs": []
    },
    {
      "cell_type": "code",
      "source": [
        "X_train, X_test, y_train, y_test = train_test_split(X, y, test_size=0.2, random_state=42)\n"
      ],
      "metadata": {
        "id": "QoHSlaJLMKIY"
      },
      "execution_count": null,
      "outputs": []
    },
    {
      "cell_type": "code",
      "source": [
        "lgb_train = lgb.Dataset(X_train, y_train)\n",
        "params = {\n",
        "    \"objective\": \"regression\",\n",
        "    \"metric\": \"mse\",\n",
        "    \"boosting_type\": \"gbdt\",\n",
        "    \"num_leaves\": 31,\n",
        "    \"learning_rate\": 0.05,\n",
        "    \"feature_fraction\": 0.9\n",
        "}\n",
        "num_round = 100\n",
        "\n",
        "lgb_model = lgb.train(params, lgb_train, num_round)\n"
      ],
      "metadata": {
        "id": "sv9WljctMMYo"
      },
      "execution_count": null,
      "outputs": []
    },
    {
      "cell_type": "code",
      "source": [
        "y_pred = lgb_model.predict(X_test, num_iteration=lgb_model.best_iteration)\n",
        "mse = mean_squared_error(y_test, y_pred)\n",
        "print(f\"Mean Squared Error: {mse}\")\n"
      ],
      "metadata": {
        "id": "5qlBZnPQMPZw"
      },
      "execution_count": null,
      "outputs": []
    },
    {
      "cell_type": "code",
      "source": [
        "new_data = np.array([[6.0, 18.0, 2.31, 0.0, 0.538, 6.575, 65.2, 4.0900, 1.0, 296.0, 15.3, 396.90, 4.98]])\n",
        "predicted_price = lgb_model.predict(new_data)\n",
        "print(f\"Predicted Price: ${predicted_price[0]:.2f}\")\n"
      ],
      "metadata": {
        "id": "Lm8QMw0OMTF8"
      },
      "execution_count": null,
      "outputs": []
    }
  ]
}